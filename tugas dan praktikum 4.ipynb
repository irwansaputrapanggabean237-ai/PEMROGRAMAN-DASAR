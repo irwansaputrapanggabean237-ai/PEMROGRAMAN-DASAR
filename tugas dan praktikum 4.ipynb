{
  "cells": [
    {
      "cell_type": "markdown",
      "metadata": {
        "id": "view-in-github",
        "colab_type": "text"
      },
      "source": [
        "<a href=\"https://colab.research.google.com/github/irwansaputrapanggabean237-ai/PEMROGRAMAN-DASAR/blob/main/tugas%20dan%20praktikum%204.ipynb\" target=\"_parent\"><img src=\"https://colab.research.google.com/assets/colab-badge.svg\" alt=\"Open In Colab\"/></a>"
      ]
    },
    {
      "cell_type": "code",
      "source": [
        "# PRAKTIKUM\n",
        "# variabel untuk menyimpan umur pengunjung\n",
        "umur: int = 20\n",
        "# program hanya akan mencetak pesan jika umur di atas 17\n",
        "if umur > 17:\n",
        "  print(\"pengunjung adalah orang dewasa.\")"
      ],
      "metadata": {
        "colab": {
          "base_uri": "https://localhost:8080/"
        },
        "id": "i-VEbM_Edp0O",
        "outputId": "b0fff18d-d295-4a7a-e621-0a4f8b71b24d"
      },
      "execution_count": 1,
      "outputs": [
        {
          "output_type": "stream",
          "name": "stdout",
          "text": [
            "pengunjung adalah orang dewasa.\n"
          ]
        }
      ]
    },
    {
      "cell_type": "code",
      "source": [
        "username = input(\"masukkan username: \")\n",
        "password = input(\"masukkan password: \")\n",
        "if username == \"irwan saputra panggabean\" and password == \"1234\":\n",
        "  print(\"login berhasil\")\n",
        "\n",
        "else:\n",
        "  print(\"login gagal\")"
      ],
      "metadata": {
        "colab": {
          "base_uri": "https://localhost:8080/"
        },
        "id": "bCgVNH67d06g",
        "outputId": "16493909-9b39-4a98-e1a9-723d846d5c21"
      },
      "execution_count": 3,
      "outputs": [
        {
          "output_type": "stream",
          "name": "stdout",
          "text": [
            "masukkan username: irwan saputra panggabean\n",
            "masukkan password: 1234\n",
            "login berhasil\n"
          ]
        }
      ]
    },
    {
      "cell_type": "code",
      "source": [
        "total_belanja = input(\"total belanja: Rp \")\n",
        "bayar = int(total_belanja)\n",
        "\n",
        "print(\"selamat karna belanja > Rp. 100.000 anda mendapat vouher makan \")\n",
        "print(\"dan diskon 5%\")\n",
        "\n",
        "diskon = int(total_belanja) * 5/100 #5%\n",
        "bayar = int(total_belanja) - diskon\n",
        "\n",
        "print(\"total yang harus dibayar: Rp %s\" % bayar)\n",
        "print(\"terima kasih sudah berbelanja di toko kami\")\n",
        "print(\"kami tunggu kunjungan anda selanjutnya.\")"
      ],
      "metadata": {
        "colab": {
          "base_uri": "https://localhost:8080/"
        },
        "id": "VLACTG9LeTEj",
        "outputId": "f85379c6-80bb-4b82-ccf9-cac9c7b1239e"
      },
      "execution_count": 4,
      "outputs": [
        {
          "output_type": "stream",
          "name": "stdout",
          "text": [
            "total belanja: Rp 12000\n",
            "selamat karna belanja > Rp. 100.000 anda mendapat vouher makan \n",
            "dan diskon 5%\n",
            "total yang harus dibayar: Rp 11400.0\n",
            "terima kasih sudah berbelanja di toko kami\n",
            "kami tunggu kunjungan anda selanjutnya.\n"
          ]
        }
      ]
    },
    {
      "cell_type": "code",
      "source": [
        "ada_notifikasi_baru: bool = True\n",
        "\n",
        "if ada_notifikasi_baru:\n",
        "  print(\"anda memiliki pesan baru!\")"
      ],
      "metadata": {
        "colab": {
          "base_uri": "https://localhost:8080/"
        },
        "id": "gPf84BpkefHp",
        "outputId": "fed2d760-2722-45b7-be56-e80705be3b9d"
      },
      "execution_count": 5,
      "outputs": [
        {
          "output_type": "stream",
          "name": "stdout",
          "text": [
            "anda memiliki pesan baru!\n"
          ]
        }
      ]
    },
    {
      "cell_type": "code",
      "source": [
        "umur = input(\"berapa umur kamu: \")\n",
        "if int(umur) >= 18:\n",
        "  print(\"kamu boleh membuat sim\")\n",
        "else:\n",
        "  print(\"kamu belum boleh membuat sim\")"
      ],
      "metadata": {
        "colab": {
          "base_uri": "https://localhost:8080/"
        },
        "id": "RtHIAl2Gekzj",
        "outputId": "99f78050-3565-4e04-d1be-3b96e7fa6b55"
      },
      "execution_count": 6,
      "outputs": [
        {
          "output_type": "stream",
          "name": "stdout",
          "text": [
            "berapa umur kamu: 20\n",
            "kamu boleh membuat sim\n"
          ]
        }
      ]
    },
    {
      "cell_type": "code",
      "source": [
        "total_belanja = 50000\n",
        "if total_belanja > 20000:\n",
        "  diskon = total_belanja * 0.10\n",
        "  total_bayar = total_belanja - diskon\n",
        "  print(f\"anda mendapatkan diskon! total bayar: Rp {total_bayar}\")\n",
        "else:\n",
        "  print(f\"total bayar: Rp {total_belanja}\")"
      ],
      "metadata": {
        "colab": {
          "base_uri": "https://localhost:8080/"
        },
        "id": "u7AtGpvQeq2C",
        "outputId": "625309da-b472-4918-be91-cbc5521a506a"
      },
      "execution_count": 7,
      "outputs": [
        {
          "output_type": "stream",
          "name": "stdout",
          "text": [
            "anda mendapatkan diskon! total bayar: Rp 45000.0\n"
          ]
        }
      ]
    },
    {
      "cell_type": "code",
      "source": [
        "angka = int(input(\"masukkan bilangan: \"))\n",
        "\n",
        "if angka % 2 == 0:\n",
        "  print(\"bilangan genap\")\n",
        "else:\n",
        "  print(\"bilangan anjil\")"
      ],
      "metadata": {
        "colab": {
          "base_uri": "https://localhost:8080/"
        },
        "id": "xAHkbfzeexA_",
        "outputId": "ac31b74c-6674-4bc9-d17f-f7493994f5ba"
      },
      "execution_count": 8,
      "outputs": [
        {
          "output_type": "stream",
          "name": "stdout",
          "text": [
            "masukkan bilangan: 470\n",
            "bilangan genap\n"
          ]
        }
      ]
    },
    {
      "cell_type": "code",
      "source": [
        "nilai = 80\n",
        "if nilai >= 85:\n",
        "  print(\"luar biasa! nilai A\")\n",
        "elif nilai >= 70:\n",
        "  print(\"bagus! nilai B\")\n",
        "elif nilai >= 60:\n",
        "  print(\"cukup! nilai C\")\n",
        "else:\n",
        "  print(\"nilai kurang, perlu belajar lebih giat.\")"
      ],
      "metadata": {
        "colab": {
          "base_uri": "https://localhost:8080/"
        },
        "id": "zQSAPUYFe54W",
        "outputId": "84c41b66-dea2-49ce-8004-fe275de98bf7"
      },
      "execution_count": 9,
      "outputs": [
        {
          "output_type": "stream",
          "name": "stdout",
          "text": [
            "bagus! nilai B\n"
          ]
        }
      ]
    },
    {
      "cell_type": "code",
      "source": [
        "hari: str = \"sabtu\"\n",
        "\n",
        "if hari == \"sabtu\" or hari == \"minggu\":\n",
        "  diskon: float = 0.20\n",
        "  print(f\"selamat! anda mendapatkan diskon sebesar {diskon*100}%.\")\n",
        "\n",
        "elif hari == \"jumat\":\n",
        "  diskon: float = 0.15\n",
        "  print(f\"diskon spesial jumat! anda mendapatkan potongan {diskon*100}%.\")\n",
        "\n",
        "else:\n",
        "  diskon: float = 0.05\n",
        "  print(f\"anda mendapatkan diskon hari biasa sebesar {diskon*100}%.\")"
      ],
      "metadata": {
        "colab": {
          "base_uri": "https://localhost:8080/"
        },
        "id": "gtNskNPae-HT",
        "outputId": "a0415cad-03f9-43d6-fa64-f167ee7d8877"
      },
      "execution_count": 10,
      "outputs": [
        {
          "output_type": "stream",
          "name": "stdout",
          "text": [
            "selamat! anda mendapatkan diskon sebesar 20.0%.\n"
          ]
        }
      ]
    },
    {
      "cell_type": "code",
      "source": [
        "rupiah = int(input(\"masukkan jumlah uang (Rp:)\"))\n",
        "print(\"1. dollar (USD)\")\n",
        "print(\"2. euro (EUR)\")\n",
        "print(\"3. yen (JPY)\")\n",
        "pilih = int(input(\"pilih konversi (1/2/3): \"))\n",
        "if pilih == 1:\n",
        "  print(\"dalam dollar:\", rupiah / 15000)\n",
        "elif pilih == 2:\n",
        "  print(\"dalam euro:\", rupiah / 16000)\n",
        "elif pilih == 3:\n",
        "  print(\"dalam yen:\", rupiah / 120)\n",
        "else:\n",
        "  print(\"pilihan tidak valid\")"
      ],
      "metadata": {
        "colab": {
          "base_uri": "https://localhost:8080/"
        },
        "id": "_ndvMUpWfCx9",
        "outputId": "623ce1f5-e062-401a-9271-40068163f539"
      },
      "execution_count": 11,
      "outputs": [
        {
          "output_type": "stream",
          "name": "stdout",
          "text": [
            "masukkan jumlah uang (Rp:)20000\n",
            "1. dollar (USD)\n",
            "2. euro (EUR)\n",
            "3. yen (JPY)\n",
            "pilih konversi (1/2/3): 1\n",
            "dalam dollar: 1.3333333333333333\n"
          ]
        }
      ]
    },
    {
      "cell_type": "code",
      "source": [
        "#LATIHAN PEMEROGRAMAN KE 4\n",
        "\n",
        "angka = int(input(\"masukkan angka:\"))\n",
        "\n",
        "if angka % 5 == 0:\n",
        "  print(\"kelipatan 5\")\n",
        "else:\n",
        "  print(\"bukan kelipatan 5\")"
      ],
      "metadata": {
        "colab": {
          "base_uri": "https://localhost:8080/"
        },
        "id": "3OpQfShGfNPn",
        "outputId": "bf9ee778-31ad-4233-de37-b76285b5d9a9"
      },
      "execution_count": 12,
      "outputs": [
        {
          "output_type": "stream",
          "name": "stdout",
          "text": [
            "masukkan angka:6\n",
            "bukan kelipatan 5\n"
          ]
        }
      ]
    },
    {
      "cell_type": "code",
      "source": [
        "tahun = int(input(\"masukkan tahun:\"))\n",
        "\n",
        "if tahun % 400 == 0:\n",
        "  print(\"tahun kabisat\")\n",
        "elif tahun % 4 == 0 and tahun % 100 != 0:\n",
        "  print(\"tahun kabisat\")\n",
        "else:\n",
        "  print(\"bukan tahun kabisat\")"
      ],
      "metadata": {
        "colab": {
          "base_uri": "https://localhost:8080/"
        },
        "id": "_JN2gFzDfUIr",
        "outputId": "0bb27e52-ad14-4edc-bcfe-13bddeca56a2"
      },
      "execution_count": 13,
      "outputs": [
        {
          "output_type": "stream",
          "name": "stdout",
          "text": [
            "masukkan tahun:2025\n",
            "bukan tahun kabisat\n"
          ]
        }
      ]
    },
    {
      "cell_type": "code",
      "source": [
        "angka1 = float(input(\"masukkan angka pertama:\"))\n",
        "angka2 = float(input(\"masukkan angka kedua:\"))\n",
        "operator = input(\"masukkan operator (+, -, *, /):\")\n",
        "\n",
        "if operator == '+':\n",
        "  print(\"hasil:\", angka1 + angka2)\n",
        "elif operator == '-':\n",
        "  print(\"hasil:\", angka1 - angka2)\n",
        "elif operator == '*':\n",
        "  print(\"hasil:\", angka1 * angka2)\n",
        "elif operator == '/':\n",
        "  print(\"hasil:\", angka1 / angka2)\n",
        "else:\n",
        "  print(\"operator tidak dikenal\")"
      ],
      "metadata": {
        "colab": {
          "base_uri": "https://localhost:8080/"
        },
        "id": "881yDYMMfaf4",
        "outputId": "885bce8f-fc02-4061-b412-8c41aef77c21"
      },
      "execution_count": 14,
      "outputs": [
        {
          "output_type": "stream",
          "name": "stdout",
          "text": [
            "masukkan angka pertama:100\n",
            "masukkan angka kedua:200\n",
            "masukkan operator (+, -, *, /):+\n",
            "hasil: 300.0\n"
          ]
        }
      ]
    },
    {
      "cell_type": "code",
      "source": [
        "bulan = int(input(\"masukkan nomor bulan (1-12):\"))\n",
        "if bulan == 1:\n",
        "  print(\"januari\")\n",
        "elif bulan == 2:\n",
        "  print(\"februari\")\n",
        "elif bulan == 3:\n",
        "  print(\"maret\")\n",
        "elif bulan == 4:\n",
        "  print(\"april\")\n",
        "elif bulan == 5:\n",
        "  print(\"mei\")\n",
        "elif bulan == 6:\n",
        "  print(\"juni\")\n",
        "elif bulan == 7:\n",
        "  print(\"juli\")\n",
        "elif bulan == 8:\n",
        "  print(\"agustus\")\n",
        "elif bulan == 9:\n",
        "  print(\"september\")\n",
        "elif bulan == 10:\n",
        "  print(\"oktober\")\n",
        "elif bulan == 11:\n",
        "  print(\"november\")\n",
        "elif bulan == 12:\n",
        "  print(\"desember\")\n",
        "else:\n",
        "  print(\"input salah\")"
      ],
      "metadata": {
        "colab": {
          "base_uri": "https://localhost:8080/"
        },
        "id": "Wqnnauynflvx",
        "outputId": "10b02e6b-c3c5-4e8a-b73c-b2404243622c"
      },
      "execution_count": 15,
      "outputs": [
        {
          "output_type": "stream",
          "name": "stdout",
          "text": [
            "masukkan nomor bulan (1-12):5\n",
            "mei\n"
          ]
        }
      ]
    },
    {
      "cell_type": "code",
      "source": [
        "jam = int(input(\"masukkan jam (0-23):\"))\n",
        "if 0 <= jam <= 11:\n",
        "  print(\"selamat pagi!\")\n",
        "elif 12 <= jam <= 15:\n",
        "  print(\"selamat siang!\")\n",
        "elif 16 <= jam <= 18:\n",
        "  print(\"selamat sore!\")\n",
        "elif 19 <= jam <= 23:\n",
        "  print(\"selamat malam!\")\n",
        "else:\n",
        "  print(\"jam tidak valid\")"
      ],
      "metadata": {
        "colab": {
          "base_uri": "https://localhost:8080/"
        },
        "id": "ZPVlhkFFfstB",
        "outputId": "98e449af-f112-41ae-da03-4c86b3f0f841"
      },
      "execution_count": 16,
      "outputs": [
        {
          "output_type": "stream",
          "name": "stdout",
          "text": [
            "masukkan jam (0-23):19\n",
            "selamat malam!\n"
          ]
        }
      ]
    },
    {
      "cell_type": "code",
      "source": [
        "# TUGAS KE 4\n",
        "\n",
        "print(\"=\" * 30)\n",
        "print(\"SELAMAT DATANG DI KAFE GEMINI\")\n",
        "print(\"=\" * 30)\n",
        "print(\"MENU MAKANAN & MINUMAN:\")\n",
        "print(\"1. Kopi Hitam - Rp 12.000\")\n",
        "print(\"2. Teh Manis - Rp 8.000\")\n",
        "print(\"3. Roti Bakar - Rp 15.000\")\n",
        "print(\"4. Mie Instan - Rp 10.000\")\n",
        "print(\"=\" * 30)\n",
        "\n",
        "pilihan_str = input(\"Silakan masukkan nomor pilihan Anda (1-4): \")\n",
        "pilihan = int(pilihan_str)\n",
        "\n",
        "nama_pesanan = \"\"\n",
        "harga = 0\n",
        "\n",
        "# --- MENENTUKAN MENU DAN HARGA SATUAN ---\n",
        "if pilihan == 1:\n",
        "    nama_pesanan = \"Kopi Hitam\"\n",
        "    harga = 12000\n",
        "elif pilihan == 2:\n",
        "    nama_pesanan = \"Teh Manis\"\n",
        "    harga = 8000\n",
        "elif pilihan == 3:\n",
        "    nama_pesanan = \"Roti Bakar\"\n",
        "    harga = 15000\n",
        "elif pilihan == 4:\n",
        "    nama_pesanan = \"Mie Instan\"\n",
        "    harga = 10000\n",
        "else:\n",
        "    print(\"Maaf, pilihan menu tidak valid. Silakan jalankan ulang program.\")\n",
        "    exit()\n",
        "\n",
        "print(f\"Anda memesan: {nama_pesanan} dengan harga Rp {harga}\")\n",
        "\n",
        "# --- MODIFIKASI: PENENTUAN DISKON OTOMATIS BERDASARKAN TOTAL BELANJA (HARGA) ---\n",
        "diskon_persen = 0\n",
        "\n",
        "if harga > 15000:\n",
        "    diskon_persen = 70\n",
        "elif harga > 10000:\n",
        "    diskon_persen = 50\n",
        "elif harga > 5000:\n",
        "    diskon_persen = 30\n",
        "else:\n",
        "    diskon_persen = 0\n",
        "\n",
        "# Hitung nilai diskon\n",
        "diskon = diskon_persen / 100\n",
        "potongan = harga * diskon\n",
        "harga_setelah_diskon = harga - potongan\n",
        "\n",
        "print(f\"\\nDiskon Otomatis Diterapkan: {diskon_persen}%\")\n",
        "print(f\"Potongan Harga: Rp {int(potongan)}\")\n",
        "print(f\"Harga Akhir (setelah diskon): Rp {int(harga_setelah_diskon)}\")\n",
        "print(\"=\" * 30)\n",
        "\n",
        "# --- PROSES PEMBAYARAN ---\n",
        "uang_dibayar_str = input(f\"Total yang harus dibayar: Rp {int(harga_setelah_diskon)}. Masukkan jumlah uang dibayar: \")\n",
        "uang_dibayar = int(uang_dibayar_str)\n",
        "\n",
        "if uang_dibayar >= harga_setelah_diskon:\n",
        "    kembalian = uang_dibayar - harga_setelah_diskon\n",
        "\n",
        "    # Cetak Struk\n",
        "    print(\"\\n--- STRUK PEMBAYARAN ---\")\n",
        "    print(f\"PESANAN ANDA        : {nama_pesanan}\")\n",
        "    print(f\"TOTAL HARGA (awal)  : Rp {harga}\")\n",
        "    print(f\"DISKON              : {diskon_persen}%\")\n",
        "    print(f\"HARGA AKHIR         : Rp {int(harga_setelah_diskon)}\")\n",
        "    print(f\"UANG DIBAYAR        : Rp {uang_dibayar}\")\n",
        "    print(f\"KEMBALIAN           : Rp {int(kembalian)}\")\n",
        "    print(\"=\" * 30)\n",
        "    print(\"Terimakasih telah berbelanja!\")\n",
        "\n",
        "else:\n",
        "    kekurangan = harga_setelah_diskon - uang_dibayar\n",
        "    print(f\"\\nMaaf, uang Anda kurang sebesar Rp {int(kekurangan)}.\")\n",
        "\n",
        "print(\"=\" * 30)"
      ],
      "metadata": {
        "colab": {
          "base_uri": "https://localhost:8080/"
        },
        "id": "_p7YRdSAj2xj",
        "outputId": "6265472f-4635-4806-92d3-55946b8cc58b"
      },
      "execution_count": 25,
      "outputs": [
        {
          "output_type": "stream",
          "name": "stdout",
          "text": [
            "==============================\n",
            "SELAMAT DATANG DI KAFE GEMINI\n",
            "==============================\n",
            "MENU MAKANAN & MINUMAN:\n",
            "1. Kopi Hitam - Rp 12.000\n",
            "2. Teh Manis - Rp 8.000\n",
            "3. Roti Bakar - Rp 15.000\n",
            "4. Mie Instan - Rp 10.000\n",
            "==============================\n",
            "Silakan masukkan nomor pilihan Anda (1-4): 3\n",
            "Anda memesan: Roti Bakar dengan harga Rp 15000\n",
            "\n",
            "Diskon Otomatis Diterapkan: 50%\n",
            "Potongan Harga: Rp 7500\n",
            "Harga Akhir (setelah diskon): Rp 7500\n",
            "==============================\n",
            "Total yang harus dibayar: Rp 7500. Masukkan jumlah uang dibayar: 50000\n",
            "\n",
            "--- STRUK PEMBAYARAN ---\n",
            "PESANAN ANDA        : Roti Bakar\n",
            "TOTAL HARGA (awal)  : Rp 15000\n",
            "DISKON              : 50%\n",
            "HARGA AKHIR         : Rp 7500\n",
            "UANG DIBAYAR        : Rp 50000\n",
            "KEMBALIAN           : Rp 42500\n",
            "==============================\n",
            "Terimakasih telah berbelanja!\n",
            "==============================\n"
          ]
        }
      ]
    }
  ],
  "metadata": {
    "colab": {
      "provenance": [],
      "authorship_tag": "ABX9TyOaDwTwGH+Ofavk2j9nK+zi",
      "include_colab_link": true
    },
    "kernelspec": {
      "display_name": "Python 3",
      "name": "python3"
    },
    "language_info": {
      "name": "python"
    }
  },
  "nbformat": 4,
  "nbformat_minor": 0
}