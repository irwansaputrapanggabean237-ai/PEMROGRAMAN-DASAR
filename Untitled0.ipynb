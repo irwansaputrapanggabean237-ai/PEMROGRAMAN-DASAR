{
  "nbformat": 4,
  "nbformat_minor": 0,
  "metadata": {
    "colab": {
      "provenance": [],
      "authorship_tag": "ABX9TyN7RvbxXIr5HC3u1wKLWwKi",
      "include_colab_link": true
    },
    "kernelspec": {
      "name": "python3",
      "display_name": "Python 3"
    },
    "language_info": {
      "name": "python"
    }
  },
  "cells": [
    {
      "cell_type": "markdown",
      "metadata": {
        "id": "view-in-github",
        "colab_type": "text"
      },
      "source": [
        "<a href=\"https://colab.research.google.com/github/irwansaputrapanggabean237-ai/PEMROGRAMAN-DASAR/blob/main/Untitled0.ipynb\" target=\"_parent\"><img src=\"https://colab.research.google.com/assets/colab-badge.svg\" alt=\"Open In Colab\"/></a>"
      ]
    },
    {
      "cell_type": "code",
      "execution_count": 2,
      "metadata": {
        "colab": {
          "base_uri": "https://localhost:8080/"
        },
        "id": "h7-hxbBk-5bT",
        "outputId": "5fdde2ed-b0f5-4b0c-f943-ddb651927f53"
      },
      "outputs": [
        {
          "output_type": "stream",
          "name": "stdout",
          "text": [
            "2\n",
            "4\n",
            "6\n",
            "8\n",
            "10\n",
            "12\n",
            "14\n",
            "16\n",
            "18\n",
            "20\n",
            "22\n",
            "24\n",
            "26\n",
            "28\n",
            "30\n",
            "32\n",
            "34\n",
            "36\n",
            "38\n",
            "40\n",
            "42\n",
            "44\n",
            "46\n",
            "48\n",
            "50\n"
          ]
        }
      ],
      "source": [
        "for angka in range(2, 51, 2):\n",
        "    print(angka)"
      ]
    },
    {
      "cell_type": "code",
      "source": [
        "print(\"_-- soal 2 - -\")\n",
        "kode_berhenti = \"4232411028\"\n",
        "input_pengguna = 0\n",
        "while input_pengguna != kode_berhenti:\n",
        "    input_pengguna = input(\" (masukkan nim untuk berhenti): \")\n",
        "    if input_pengguna != kode_berhenti:\n",
        "        print(\"input diterima, lanjutkan... In\")\n",
        "print(\"perulangan telah dihentikan, terimakasih!\")"
      ],
      "metadata": {
        "colab": {
          "base_uri": "https://localhost:8080/"
        },
        "id": "ztwmFaxn_guN",
        "outputId": "c2935a2f-1b02-4cb3-fd62-5d7fb6649565"
      },
      "execution_count": 4,
      "outputs": [
        {
          "output_type": "stream",
          "name": "stdout",
          "text": [
            "_-- soal 2 - -\n",
            " (masukkan nim untuk berhenti): 4232411028\n",
            "perulangan telah dihentikan, terimakasih!\n"
          ]
        }
      ]
    },
    {
      "cell_type": "code",
      "source": [
        "print(\"-- - soal 3 ---\")\n",
        "harga_barang = [15000, 25000, 10000, 12000, 5000, 8000, 20000, 30000, 4500, 7000]\n",
        "total_belanja = 0\n",
        "for harga in harga_barang:\n",
        "    total_belanja += harga\n",
        "print(\"total biaya belanja adalah:\", total_belanja)"
      ],
      "metadata": {
        "colab": {
          "base_uri": "https://localhost:8080/"
        },
        "id": "yqBGgXR9_-Ws",
        "outputId": "c11641a6-2cf3-4fa6-a1e6-01064a095e58"
      },
      "execution_count": 7,
      "outputs": [
        {
          "output_type": "stream",
          "name": "stdout",
          "text": [
            "-- - soal 3 ---\n",
            "total biaya belanja adalah: 136500\n"
          ]
        }
      ]
    },
    {
      "cell_type": "code",
      "source": [
        "print(\" --- soal 4 ---\")\n",
        "password_benar = \"irwansaputrapanggabean123\"\n",
        "percobaan_maksimal = 3\n",
        "percobaan_saat_ini = 1\n",
        "while percobaan_saat_ini <= percobaan_maksimal:\n",
        "    input_user = input(f\"percobaan ke-({percobaan_saat_ini}), masukkan password: \")\n",
        "    if input_user == password_benar:\n",
        "        print(\"password benar, akses diterima.\")\n",
        "        break\n",
        "    else:\n",
        "        print(\"password salah! \\n\")\n",
        "    percobaan_saat_ini += 1  # Increment the attempt counter\n",
        "    if percobaan_saat_ini > percobaan_maksimal:\n",
        "        print(\"akses ditolak, coba lagi nanti.\")"
      ],
      "metadata": {
        "colab": {
          "base_uri": "https://localhost:8080/"
        },
        "id": "SL5THkAoAjt-",
        "outputId": "4af73a94-3910-42fd-bb10-95e79e0231af"
      },
      "execution_count": 9,
      "outputs": [
        {
          "output_type": "stream",
          "name": "stdout",
          "text": [
            " --- soal 4 ---\n",
            "percobaan ke-(1), masukkan password: irwansaputrapanggabean123\n",
            "password benar, akses diterima.\n"
          ]
        }
      ]
    },
    {
      "cell_type": "code",
      "source": [
        "print(\"--- soal 5 ---\")\n",
        "nama_proyek = \"politeknik negeri batam\"\n",
        "hasil_output = \"\"\n",
        "for karakter in nama_proyek:\n",
        "    hasil_output += karakter + \" \"\n",
        "print(hasil_output)"
      ],
      "metadata": {
        "colab": {
          "base_uri": "https://localhost:8080/"
        },
        "id": "ZTz-JBWtBOYh",
        "outputId": "95f83886-d764-4359-f025-84038878b2ff"
      },
      "execution_count": 11,
      "outputs": [
        {
          "output_type": "stream",
          "name": "stdout",
          "text": [
            "--- soal 5 ---\n",
            "p o l i t e k n i k   n e g e r i   b a t a m \n"
          ]
        }
      ]
    },
    {
      "cell_type": "code",
      "source": [
        "print(\"--- soal 6 ---\")\n",
        "for i in range (255, 0, -1):\n",
        "    print(i)"
      ],
      "metadata": {
        "colab": {
          "base_uri": "https://localhost:8080/"
        },
        "id": "S8CwaD96B7fu",
        "outputId": "e2e0df33-eac9-41df-f3d4-abcfde5725a8"
      },
      "execution_count": 13,
      "outputs": [
        {
          "output_type": "stream",
          "name": "stdout",
          "text": [
            "--- soal 6 ---\n",
            "255\n",
            "254\n",
            "253\n",
            "252\n",
            "251\n",
            "250\n",
            "249\n",
            "248\n",
            "247\n",
            "246\n",
            "245\n",
            "244\n",
            "243\n",
            "242\n",
            "241\n",
            "240\n",
            "239\n",
            "238\n",
            "237\n",
            "236\n",
            "235\n",
            "234\n",
            "233\n",
            "232\n",
            "231\n",
            "230\n",
            "229\n",
            "228\n",
            "227\n",
            "226\n",
            "225\n",
            "224\n",
            "223\n",
            "222\n",
            "221\n",
            "220\n",
            "219\n",
            "218\n",
            "217\n",
            "216\n",
            "215\n",
            "214\n",
            "213\n",
            "212\n",
            "211\n",
            "210\n",
            "209\n",
            "208\n",
            "207\n",
            "206\n",
            "205\n",
            "204\n",
            "203\n",
            "202\n",
            "201\n",
            "200\n",
            "199\n",
            "198\n",
            "197\n",
            "196\n",
            "195\n",
            "194\n",
            "193\n",
            "192\n",
            "191\n",
            "190\n",
            "189\n",
            "188\n",
            "187\n",
            "186\n",
            "185\n",
            "184\n",
            "183\n",
            "182\n",
            "181\n",
            "180\n",
            "179\n",
            "178\n",
            "177\n",
            "176\n",
            "175\n",
            "174\n",
            "173\n",
            "172\n",
            "171\n",
            "170\n",
            "169\n",
            "168\n",
            "167\n",
            "166\n",
            "165\n",
            "164\n",
            "163\n",
            "162\n",
            "161\n",
            "160\n",
            "159\n",
            "158\n",
            "157\n",
            "156\n",
            "155\n",
            "154\n",
            "153\n",
            "152\n",
            "151\n",
            "150\n",
            "149\n",
            "148\n",
            "147\n",
            "146\n",
            "145\n",
            "144\n",
            "143\n",
            "142\n",
            "141\n",
            "140\n",
            "139\n",
            "138\n",
            "137\n",
            "136\n",
            "135\n",
            "134\n",
            "133\n",
            "132\n",
            "131\n",
            "130\n",
            "129\n",
            "128\n",
            "127\n",
            "126\n",
            "125\n",
            "124\n",
            "123\n",
            "122\n",
            "121\n",
            "120\n",
            "119\n",
            "118\n",
            "117\n",
            "116\n",
            "115\n",
            "114\n",
            "113\n",
            "112\n",
            "111\n",
            "110\n",
            "109\n",
            "108\n",
            "107\n",
            "106\n",
            "105\n",
            "104\n",
            "103\n",
            "102\n",
            "101\n",
            "100\n",
            "99\n",
            "98\n",
            "97\n",
            "96\n",
            "95\n",
            "94\n",
            "93\n",
            "92\n",
            "91\n",
            "90\n",
            "89\n",
            "88\n",
            "87\n",
            "86\n",
            "85\n",
            "84\n",
            "83\n",
            "82\n",
            "81\n",
            "80\n",
            "79\n",
            "78\n",
            "77\n",
            "76\n",
            "75\n",
            "74\n",
            "73\n",
            "72\n",
            "71\n",
            "70\n",
            "69\n",
            "68\n",
            "67\n",
            "66\n",
            "65\n",
            "64\n",
            "63\n",
            "62\n",
            "61\n",
            "60\n",
            "59\n",
            "58\n",
            "57\n",
            "56\n",
            "55\n",
            "54\n",
            "53\n",
            "52\n",
            "51\n",
            "50\n",
            "49\n",
            "48\n",
            "47\n",
            "46\n",
            "45\n",
            "44\n",
            "43\n",
            "42\n",
            "41\n",
            "40\n",
            "39\n",
            "38\n",
            "37\n",
            "36\n",
            "35\n",
            "34\n",
            "33\n",
            "32\n",
            "31\n",
            "30\n",
            "29\n",
            "28\n",
            "27\n",
            "26\n",
            "25\n",
            "24\n",
            "23\n",
            "22\n",
            "21\n",
            "20\n",
            "19\n",
            "18\n",
            "17\n",
            "16\n",
            "15\n",
            "14\n",
            "13\n",
            "12\n",
            "11\n",
            "10\n",
            "9\n",
            "8\n",
            "7\n",
            "6\n",
            "5\n",
            "4\n",
            "3\n",
            "2\n",
            "1\n"
          ]
        }
      ]
    },
    {
      "cell_type": "code",
      "source": [
        "print(\" - -- soal 7 --- \")\n",
        "kelurahan = [\"baloi permai\", \"batu selicin\", \"tanjung uma\", \"belian\"]\n",
        "for i, nama in enumerate (kelurahan) :\n",
        "    print (f\"kelurahan ke-{i+1}: {nama}\")"
      ],
      "metadata": {
        "colab": {
          "base_uri": "https://localhost:8080/"
        },
        "id": "VAGdm0ubCkso",
        "outputId": "0811c75e-f7ed-42d7-a81f-d623e99ca961"
      },
      "execution_count": 15,
      "outputs": [
        {
          "output_type": "stream",
          "name": "stdout",
          "text": [
            " - -- soal 7 --- \n",
            "kelurahan ke-1: baloi permai\n",
            "kelurahan ke-2: batu selicin\n",
            "kelurahan ke-3: tanjung uma\n",
            "kelurahan ke-4: belian\n"
          ]
        }
      ]
    },
    {
      "cell_type": "code",
      "source": [
        "print(\"--- soal 8 ---\")\n",
        "data_angka = [5, 15, 10, 0, 25]\n",
        "for angka in data_angka:\n",
        "    if angka == 0:\n",
        "        break\n",
        "    print(angka)\n",
        "\n",
        "print(\"program berhenti karena menemukan angka 0\")"
      ],
      "metadata": {
        "colab": {
          "base_uri": "https://localhost:8080/"
        },
        "id": "P5Sbxcm2DhMd",
        "outputId": "9d1649f4-3768-4dfd-cab6-2c9c29ff37f8"
      },
      "execution_count": 17,
      "outputs": [
        {
          "output_type": "stream",
          "name": "stdout",
          "text": [
            "--- soal 8 ---\n",
            "5\n",
            "15\n",
            "10\n",
            "program berhenti karena menemukan angka 0\n"
          ]
        }
      ]
    },
    {
      "cell_type": "code",
      "source": [
        "print(\"--- soal 9 ---\")\n",
        "total = 0\n",
        "bilangan = 1\n",
        "batas = 20\n",
        "\n",
        "while total <= batas:\n",
        "   total += bilangan\n",
        "   bilangan += 1\n",
        "\n",
        "print(\"total terakhir:\", total)"
      ],
      "metadata": {
        "colab": {
          "base_uri": "https://localhost:8080/"
        },
        "id": "7cfq1_l8EMGL",
        "outputId": "783b2fa3-4a89-48ea-e699-5444fbbf35b2"
      },
      "execution_count": 18,
      "outputs": [
        {
          "output_type": "stream",
          "name": "stdout",
          "text": [
            "--- soal 9 ---\n",
            "total terakhir: 21\n"
          ]
        }
      ]
    },
    {
      "cell_type": "code",
      "source": [
        "print(\" --- soal 10 ---\")\n",
        "jumlah_baris = 3\n",
        "\n",
        "for baris in range(jumlah_baris):\n",
        "    baris_teks = \"\"\n",
        "    for kolom in range(1): # karena 1 kali per baris\n",
        "        baris_teks += \"python\"\n",
        "    print (baris_teks)"
      ],
      "metadata": {
        "colab": {
          "base_uri": "https://localhost:8080/"
        },
        "id": "t_dtygv4Enlu",
        "outputId": "81e3ec55-c002-47c9-cefa-d89a13414cdc"
      },
      "execution_count": 20,
      "outputs": [
        {
          "output_type": "stream",
          "name": "stdout",
          "text": [
            " --- soal 10 ---\n",
            "python\n",
            "python\n",
            "python\n"
          ]
        }
      ]
    }
  ]
}