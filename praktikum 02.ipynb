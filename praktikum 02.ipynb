{
  "nbformat": 4,
  "nbformat_minor": 0,
  "metadata": {
    "colab": {
      "provenance": [],
      "authorship_tag": "ABX9TyPmir9F3DXGMzkQa5PtPDvr",
      "include_colab_link": true
    },
    "kernelspec": {
      "name": "python3",
      "display_name": "Python 3"
    },
    "language_info": {
      "name": "python"
    }
  },
  "cells": [
    {
      "cell_type": "markdown",
      "metadata": {
        "id": "view-in-github",
        "colab_type": "text"
      },
      "source": [
        "<a href=\"https://colab.research.google.com/github/irwansaputrapanggabean237-ai/PEMROGRAMAN-DASAR/blob/main/praktikum%2002.ipynb\" target=\"_parent\"><img src=\"https://colab.research.google.com/assets/colab-badge.svg\" alt=\"Open In Colab\"/></a>"
      ]
    },
    {
      "cell_type": "code",
      "source": [
        "# deklarasi variabel list\n",
        "numbers = [23, 43, 15, 341]\n",
        "# cara mengakses elemen dalam variabel list\n",
        "numbers[0]  # 27\n",
        "numbers[1]  # 43\n",
        "numbers[2]  # 15\n",
        "numbers[3]  # 34\n",
        "# cara mengubah nilai elemen dalan variabel list\n",
        "numbers[2] # 51\n",
        "numbers[2] # 51\n",
        "\n",
        "print (numbers[1])\n",
        "print (numbers [2])\n",
        "print (numbers [3])\n"
      ],
      "metadata": {
        "colab": {
          "base_uri": "https://localhost:8080/"
        },
        "id": "zjJU7ytgHkev",
        "outputId": "d626c724-d5b6-4fa4-8c4f-2fd50a8db137"
      },
      "execution_count": 3,
      "outputs": [
        {
          "output_type": "stream",
          "name": "stdout",
          "text": [
            "43\n",
            "15\n",
            "341\n"
          ]
        }
      ]
    },
    {
      "cell_type": "code",
      "execution_count": null,
      "metadata": {
        "colab": {
          "base_uri": "https://localhost:8080/"
        },
        "id": "M9B85DXxGhqj",
        "outputId": "ff7b8a7c-2e7d-4c98-fb3a-89d71ef4b392"
      },
      "outputs": [
        {
          "output_type": "execute_result",
          "data": {
            "text/plain": [
              "3"
            ]
          },
          "metadata": {},
          "execution_count": 3
        }
      ],
      "source": [
        "# deklarasi variabel list numbers\n",
        "numbers = [1, 2, 3]\n",
        "\n",
        "# menambahkan elemen di indeks ke-4\n",
        "numbers.insert(4, 5)    # [1, 2, 3, 5]\n",
        "\n",
        "# mengubah elemen di indeks ke-4\n",
        "numbers[3] = 4     #  [1, 2, 3, 4]\n",
        "\n",
        "# menghapus elemen di indeks ke-2\n",
        "numbers.pop(2)    # [1, 2, 4]\n",
        "\n",
        "#print lalu lihat hasilnya"
      ]
    },
    {
      "cell_type": "code",
      "source": [
        "# deklarasi variabel list numbers\n",
        "numbers = [1, 2, 3]\n",
        "\n",
        "# menambahkan elemen di indeks ke-4\n",
        "numbers.insert(4, 5) # [1, 2, 3, 5]\n",
        "\n",
        "# mengubah elemen di indeks ke-4\n",
        "numbers.pop(2) # (1, 2, 4)\n",
        "\n",
        "#print setiap hasil perubahan dan amati hasilnya"
      ],
      "metadata": {
        "colab": {
          "base_uri": "https://localhost:8080/"
        },
        "id": "4rkJrKNdlFKB",
        "outputId": "0c262525-3fd5-45fb-a110-9b2fab03849c"
      },
      "execution_count": null,
      "outputs": [
        {
          "output_type": "execute_result",
          "data": {
            "text/plain": [
              "3"
            ]
          },
          "metadata": {},
          "execution_count": 4
        }
      ]
    },
    {
      "cell_type": "code",
      "source": [
        "# deklarasi variabel list\n",
        "mylist = [1,\"rumah\", 4.5, True, [\"kamar mandi\", \"kamar tidur\"]]\n",
        "\n",
        "# cara mengakses elemen dalam variabel list\n",
        "mylist[0]   # 1\n",
        "mylist[1]   # \"Rumah\"\n",
        "mylist[3]   # true\n",
        "mylist[4]   # [\"kamar mandi\", \"kamar tidur\"]\n",
        "\n",
        "# cara mengakses elemen dalam sublist\n",
        "mylist[4][0]   # \"kamar mandi\"\n",
        "mylist[4][1]   # \"kamar tidur\"\n",
        "\n",
        "#lakukan print amati hasilnya"
      ],
      "metadata": {
        "colab": {
          "base_uri": "https://localhost:8080/",
          "height": 35
        },
        "id": "5qCBbMn6mCGm",
        "outputId": "fcd4e2a2-e5a3-4180-8338-bb6f9dde27d6"
      },
      "execution_count": null,
      "outputs": [
        {
          "output_type": "execute_result",
          "data": {
            "text/plain": [
              "'kamar tidur'"
            ],
            "application/vnd.google.colaboratory.intrinsic+json": {
              "type": "string"
            }
          },
          "metadata": {},
          "execution_count": 14
        }
      ]
    },
    {
      "cell_type": "code",
      "source": [
        "x = [\"laptop\", \"monitor\", \"mouse\", \"mousepad\", \"keyboard\", \"webcam\", \"microphone\"]\n",
        "\n",
        "print(x[0:5:2])\n",
        "print(x[1:])\n",
        "print(x[:3])\n"
      ],
      "metadata": {
        "colab": {
          "base_uri": "https://localhost:8080/"
        },
        "id": "Uj-I0c8Jo_3h",
        "outputId": "ce7e90ed-4a28-41ff-e636-3c5f347d200b"
      },
      "execution_count": 4,
      "outputs": [
        {
          "output_type": "stream",
          "name": "stdout",
          "text": [
            "['laptop', 'mouse', 'keyboard']\n",
            "['monitor', 'mouse', 'mousepad', 'keyboard', 'webcam', 'microphone']\n",
            "['laptop', 'monitor', 'mouse']\n"
          ]
        }
      ]
    },
    {
      "cell_type": "code",
      "source": [
        "x = (1, \"polibatam\", 1+3j)\n",
        "print(type(x))\n"
      ],
      "metadata": {
        "colab": {
          "base_uri": "https://localhost:8080/"
        },
        "id": "Yrmb8X3EqUS-",
        "outputId": "8a0cbbb3-fa07-422a-908d-9b3eb329a93f"
      },
      "execution_count": 6,
      "outputs": [
        {
          "output_type": "stream",
          "name": "stdout",
          "text": [
            "<class 'tuple'>\n"
          ]
        }
      ]
    },
    {
      "cell_type": "code",
      "source": [
        "x = (5, 'program', 1+3j)\n",
        "print(x[1])\n",
        "print(x[0:3])"
      ],
      "metadata": {
        "colab": {
          "base_uri": "https://localhost:8080/"
        },
        "id": "7cxqA5xsrklI",
        "outputId": "c7ca9ad7-bb27-40c5-b85f-9e12fd4c4720"
      },
      "execution_count": 8,
      "outputs": [
        {
          "output_type": "stream",
          "name": "stdout",
          "text": [
            "program\n",
            "(5, 'program', (1+3j))\n"
          ]
        }
      ]
    },
    {
      "cell_type": "code",
      "source": [
        "x = (5, 'program', 1+3j)\n",
        "x[1] = 'polibatam'\n"
      ],
      "metadata": {
        "colab": {
          "base_uri": "https://localhost:8080/",
          "height": 159
        },
        "id": "MvxhIzfqwSbZ",
        "outputId": "1f81c8fd-ac69-46e4-db8f-63e2223d4ec0"
      },
      "execution_count": 10,
      "outputs": [
        {
          "output_type": "error",
          "ename": "TypeError",
          "evalue": "'tuple' object does not support item assignment",
          "traceback": [
            "\u001b[0;31m---------------------------------------------------------------------------\u001b[0m",
            "\u001b[0;31mTypeError\u001b[0m                                 Traceback (most recent call last)",
            "\u001b[0;32m/tmp/ipython-input-3249762201.py\u001b[0m in \u001b[0;36m<cell line: 0>\u001b[0;34m()\u001b[0m\n\u001b[1;32m      1\u001b[0m \u001b[0mx\u001b[0m \u001b[0;34m=\u001b[0m \u001b[0;34m(\u001b[0m\u001b[0;36m5\u001b[0m\u001b[0;34m,\u001b[0m \u001b[0;34m'program'\u001b[0m\u001b[0;34m,\u001b[0m \u001b[0;36m1\u001b[0m\u001b[0;34m+\u001b[0m\u001b[0;36m3j\u001b[0m\u001b[0;34m)\u001b[0m\u001b[0;34m\u001b[0m\u001b[0;34m\u001b[0m\u001b[0m\n\u001b[0;32m----> 2\u001b[0;31m \u001b[0mx\u001b[0m\u001b[0;34m[\u001b[0m\u001b[0;36m1\u001b[0m\u001b[0;34m]\u001b[0m \u001b[0;34m=\u001b[0m \u001b[0;34m'polibatam'\u001b[0m\u001b[0;34m\u001b[0m\u001b[0;34m\u001b[0m\u001b[0m\n\u001b[0m",
            "\u001b[0;31mTypeError\u001b[0m: 'tuple' object does not support item assignment"
          ]
        }
      ]
    },
    {
      "cell_type": "code",
      "source": [
        "# deklarasi variabel tuple\n",
        "numbers = (23, 43, 15, 34)\n",
        "\n",
        "# cara mengakses elemen dalam variabel tuple\n",
        "numbers[0]    # 23\n",
        "numbers[1]    # 43\n",
        "numbers[2]    # 15\n",
        "#lakukan print lalu amati hasilnya"
      ],
      "metadata": {
        "colab": {
          "base_uri": "https://localhost:8080/"
        },
        "id": "TOboGeVPw7t6",
        "outputId": "4eac5a6b-b24b-47a4-c0de-49b9cfc8ddbb"
      },
      "execution_count": null,
      "outputs": [
        {
          "output_type": "execute_result",
          "data": {
            "text/plain": [
              "15"
            ]
          },
          "metadata": {},
          "execution_count": 39
        }
      ]
    },
    {
      "cell_type": "code",
      "source": [
        "# deklarasi variabel set a dan b\n",
        "a = {1, 2, 3}\n",
        "b = {2, 3, 4}\n",
        "\n",
        "# operasi gabungan\n",
        "a.union(b)    # {1, 2, 3, 4}\n",
        "\n",
        "# operasi irisan\n",
        "a.intersection(b)    # {2, 3}\n",
        "\n",
        "# operasi perbedaan\n",
        "a.symmetric_difference(b)    # {1, 4}\n",
        "\n",
        "#lakukan print dan lihat hasilnya"
      ],
      "metadata": {
        "colab": {
          "base_uri": "https://localhost:8080/"
        },
        "id": "ATMB40V4xhAq",
        "outputId": "f03533e1-0b15-4794-829b-68416a8096e2"
      },
      "execution_count": null,
      "outputs": [
        {
          "output_type": "execute_result",
          "data": {
            "text/plain": [
              "{1, 4}"
            ]
          },
          "metadata": {},
          "execution_count": 40
        }
      ]
    },
    {
      "cell_type": "code",
      "source": [
        "x = { 'name': 'perseus evans', 'age': 20, 'ismarried': False }\n",
        "\n",
        "print(type(x))\n"
      ],
      "metadata": {
        "colab": {
          "base_uri": "https://localhost:8080/"
        },
        "id": "GPSql0_UyrqN",
        "outputId": "1857c9bc-a5df-4b2b-92f9-f99af2825984"
      },
      "execution_count": 11,
      "outputs": [
        {
          "output_type": "stream",
          "name": "stdout",
          "text": [
            "<class 'dict'>\n"
          ]
        }
      ]
    },
    {
      "cell_type": "code",
      "source": [
        "x = { 'name': 'irwan saputra panggabean', 'age': 20, 'isMarried': False }\n",
        "\n",
        "print(type)\n"
      ],
      "metadata": {
        "colab": {
          "base_uri": "https://localhost:8080/"
        },
        "id": "iPqY7tBv0B0Y",
        "outputId": "6f904606-2d59-4179-f8d5-e223d2836b4b"
      },
      "execution_count": 12,
      "outputs": [
        {
          "output_type": "stream",
          "name": "stdout",
          "text": [
            "<class 'type'>\n"
          ]
        }
      ]
    },
    {
      "cell_type": "code",
      "source": [
        "x = { 'name': 'irwan saputra panggabean', 'age': 20, 'isMarried': False }\n",
        "\n",
        "print(x['name'])\n"
      ],
      "metadata": {
        "colab": {
          "base_uri": "https://localhost:8080/"
        },
        "id": "FP3ubjwSPukL",
        "outputId": "8b0e3f95-1cf1-40de-b3a7-83fe1853e4b2"
      },
      "execution_count": 13,
      "outputs": [
        {
          "output_type": "stream",
          "name": "stdout",
          "text": [
            "irwan saputra panggabean\n"
          ]
        }
      ]
    },
    {
      "cell_type": "code",
      "source": [
        "x = { 'name': 'irwan saputra panggabean', 'age': 20, 'isMarried': False }\n",
        "x ['job'] = \"web developer\"\n",
        "\n",
        "print(x)\n"
      ],
      "metadata": {
        "colab": {
          "base_uri": "https://localhost:8080/"
        },
        "id": "EESbtPpFQaUr",
        "outputId": "f45b61a0-9fb3-4e34-8f70-d05b3dc4c48a"
      },
      "execution_count": 15,
      "outputs": [
        {
          "output_type": "stream",
          "name": "stdout",
          "text": [
            "{'name': 'irwan saputra panggabean', 'age': 20, 'isMarried': False, 'job': 'web developer'}\n"
          ]
        }
      ]
    },
    {
      "cell_type": "code",
      "source": [
        "x = { 'name': 'irwan saputra panggabean', 'age': 20, 'isMarried': False }\n",
        "del x['isMarried']\n",
        "\n",
        "print(x)"
      ],
      "metadata": {
        "colab": {
          "base_uri": "https://localhost:8080/"
        },
        "id": "yfa-YXMPRnfp",
        "outputId": "74594c4a-bfbd-4771-df42-8c056a50507e"
      },
      "execution_count": 16,
      "outputs": [
        {
          "output_type": "stream",
          "name": "stdout",
          "text": [
            "{'name': 'irwan saputra panggabean', 'age': 20}\n"
          ]
        }
      ]
    },
    {
      "cell_type": "code",
      "source": [
        "x = { 'name': 'irwan saputra panggabean', 'age': 20, 'isMarried': False }\n",
        "x ['name'] =\"syahputra\"\n",
        "\n",
        "print(x)\n"
      ],
      "metadata": {
        "colab": {
          "base_uri": "https://localhost:8080/"
        },
        "id": "nWstqHSxSUuT",
        "outputId": "cee2dc94-4bfe-4e63-8e7f-3a8b4bdf1493"
      },
      "execution_count": 17,
      "outputs": [
        {
          "output_type": "stream",
          "name": "stdout",
          "text": [
            "{'name': 'syahputra', 'age': 20, 'isMarried': False}\n"
          ]
        }
      ]
    },
    {
      "cell_type": "code",
      "source": [
        "# deklarasi variabel dictionary\n",
        "property_Detail = {\"numFloors\": 1, \"propertytype\": \"rumah\", \"hasterrace\": True, \"hasgarage\": False}\n",
        "\n",
        "# cara mengakses elemen dalam variabel dictionary\n",
        "property_Detail[\"numFloors\"]       # 1\n",
        "property_Detail[\"propertytype\"]    # \"Rumah\"\n",
        "property_Detail[\"hasterrace\"]      # True\n",
        "property_Detail[\"hasgarage\"]       # False\n",
        "\n",
        "#cara mengubah nilai elemen dalam variabel dictionary\n",
        "property_Detail[\"hasTerrace\"] = False\n",
        "\n",
        "property_Detail[\"hasTerrace\"]       # false\n",
        "\n",
        "print(property_Detail[\"propertytype\"])"
      ],
      "metadata": {
        "colab": {
          "base_uri": "https://localhost:8080/"
        },
        "id": "KrQVRoECS-l1",
        "outputId": "af54b3ee-ca4a-469a-eb6f-98be418d4d9e"
      },
      "execution_count": 27,
      "outputs": [
        {
          "output_type": "stream",
          "name": "stdout",
          "text": [
            "rumah\n"
          ]
        }
      ]
    }
  ]
}